{
 "cells": [
  {
   "cell_type": "code",
   "execution_count": 3,
   "metadata": {},
   "outputs": [],
   "source": [
    "\n",
    "#import urllib2\n",
    "import requests\n",
    "import facebook\n",
    "#r = requests.get('https://graph.facebook.com/oauth/access_token?grant_type=client_credentials&client_id=123&client_secret=XXX')\n",
    "\n",
    "#access_token = r.text.split('=')[1]\n",
    "#print(access_token)\n",
    "#print(r.text)"
   ]
  },
  {
   "cell_type": "code",
   "execution_count": 26,
   "metadata": {},
   "outputs": [],
   "source": [
    "app_id = '309689136732416'\n",
    "app_secret = '1291895411ee61c2b3f8ba353712c69c'\n",
    "access_token = app_id + '|' + app_secret\n",
    "import requests\n",
    "import json\n",
    "#method to fetch and parse page's data\n",
    "def fbPageData(page_id, access_token):\n",
    "    url = \"https://graph.facebook.com/v2.4/{}/feed/?{}\".format(page_id, access_token)\n",
    "    data = json.loads(requests.get(url).content)\n",
    "    return json.dumps(data, indent = 4, sort_keys = True)\n",
    "print(fbPageData(page_id, access_token())"
   ]
  },
  {
   "cell_type": "code",
   "execution_count": 48,
   "metadata": {},
   "outputs": [
    {
     "name": "stdout",
     "output_type": "stream",
     "text": [
      "{'name': 'Will Solomon', 'id': '10105920655425876'}\n"
     ]
    }
   ],
   "source": [
    "token = \"EAAEZAqR78WQABAEwOMRy4xd6uoRZBAyIVImZABjkk9ErjExqHBSPz0KCyrLYvabbZAybJK2vC6UgWqDkLdtpgeRcMmNpOyU5Rgxc4y05hZCiI3aF06v4SlJIOExmtosTiGmMWzpXjqAzZC8DJaTLTj6DS6jhIWQrZBZBgNd4Cytli2JyEAGnSBy11bKQOSXwjZCoZD\"\n",
    "app_id = '309689136732416'\n",
    "app_secret = '1291895411ee61c2b3f8ba353712c69c'\n",
    "access_token = app_id + '|' + app_secret\n",
    "graph = facebook.GraphAPI(access_token=token, version = 2.8)\n",
    "events = graph.request('/1518481/posts')\n",
    "events = graph.request('me?fields=name,email')\n",
    "\n",
    "\n",
    "#page_id = \"time\"\n",
    "#events = graph.request('/v2.4/{}/feed/?{}'.format(page_id, access_token))\n",
    "print(events)"
   ]
  },
  {
   "cell_type": "code",
   "execution_count": 55,
   "metadata": {},
   "outputs": [],
   "source": [
    "app_id = '309689136732416'\n",
    "app_secret = '1291895411ee61c2b3f8ba353712c69c'\n",
    "access_token = app_id + '|' + app_secret\n",
    "token = \"EAAEZAqR78WQABAEwOMRy4xd6uoRZBAyIVImZABjkk9ErjExqHBSPz0KCyrLYvabbZAybJK2vC6UgWqDkLdtpgeRcMmNpOyU5Rgxc4y05hZCiI3aF06v4SlJIOExmtosTiGmMWzpXjqAzZC8DJaTLTj6DS6jhIWQrZBZBgNd4Cytli2JyEAGnSBy11bKQOSXwjZCoZD\""
   ]
  },
  {
   "cell_type": "code",
   "execution_count": 56,
   "metadata": {},
   "outputs": [
    {
     "name": "stdout",
     "output_type": "stream",
     "text": [
      "b'{\"id\":\"10105920655425876\",\"name\":\"Will Solomon\"}'\n"
     ]
    }
   ],
   "source": [
    "\n",
    "url = 'https://graph.facebook.com/me?fields=id,name,birthday,email&access_token={}'.format(token)\n",
    "r = requests.get(url).content\n",
    "print(r)"
   ]
  },
  {
   "cell_type": "code",
   "execution_count": 57,
   "metadata": {},
   "outputs": [
    {
     "name": "stdout",
     "output_type": "stream",
     "text": [
      "b'{\"id\":\"10105920655425876\"}'\n"
     ]
    }
   ],
   "source": [
    "\n",
    "url = 'https://graph.facebook.com/me?fields=feed&access_token={}'.format(token)\n",
    "r = requests.get(url).content\n",
    "print(r)"
   ]
  },
  {
   "cell_type": "code",
   "execution_count": 2,
   "metadata": {},
   "outputs": [
    {
     "ename": "SyntaxError",
     "evalue": "invalid syntax (<ipython-input-2-f8014d414ed9>, line 1)",
     "output_type": "error",
     "traceback": [
      "\u001b[0;36m  File \u001b[0;32m\"<ipython-input-2-f8014d414ed9>\"\u001b[0;36m, line \u001b[0;32m1\u001b[0m\n\u001b[0;31m    https://developers.facebook.com/docs/graph-api/reference/v7.0/user/feed\u001b[0m\n\u001b[0m          ^\u001b[0m\n\u001b[0;31mSyntaxError\u001b[0m\u001b[0;31m:\u001b[0m invalid syntax\n"
     ]
    }
   ],
   "source": [
    "https://developers.facebook.com/docs/graph-api/reference/v7.0/user/feed\n",
    "    https://developers.facebook.com/tools/explorer\n",
    "        \n",
    "        https://developers.facebook.com/docs/graph-api/reference/v7.0/user/feed"
   ]
  },
  {
   "cell_type": "code",
   "execution_count": null,
   "metadata": {},
   "outputs": [],
   "source": []
  },
  {
   "cell_type": "markdown",
   "metadata": {},
   "source": [
    "### Search"
   ]
  },
  {
   "cell_type": "markdown",
   "metadata": {},
   "source": []
  },
  {
   "cell_type": "code",
   "execution_count": 13,
   "metadata": {
    "scrolled": true
   },
   "outputs": [
    {
     "name": "stdout",
     "output_type": "stream",
     "text": [
      "Facebook Engineering\n",
      "●╫█ ♥ wєℓ ¢Θмє ♥ █╫● To ThE OfFiCiAl FaCeBoOk VIP AcCoUnT Of nobiTa aNd shizuka ║▌│█│║▌║▌││█║▌║▌║ ║▌║✔\n",
      "༆𝓕𝓪𝓬𝓮𝓫𝓸𝓸𝓴 ༒𝓥𝓘𝓟 ༒𝓪𝓬𝓬𝓸𝓾𝓷𝓽 ༆ ༆𝓕𝓪𝓬𝓮𝓫𝓸𝓸𝓴 ༒𝓥𝓘𝓟 ༒𝓪𝓬𝓬𝓸𝓾𝓷𝓽 ༆\n",
      "༆𝓕𝓪𝓬𝓮𝓫𝓸𝓸𝓴 ༒𝓥𝓘𝓟 ༒𝓪𝓬𝓬𝓸𝓾𝓷𝓽 ༆ ༆𝓕𝓪𝓬𝓮𝓫𝓸𝓸𝓴 ༒𝓥𝓘𝓟 ༒𝓪𝓬𝓬𝓸𝓾𝓷𝓽 ༆\n",
      "綠世界生態農場 ＦＡＣＥＢＯＯＫ\n",
      "FACEBOOK VIP ACCOUNT █║▌│█│║▌║││█║▌│║█║▌ © OfficialProfile 2012-2013 at Studied at facebook VIP ACCOUNT Verified ©official profile 2014-2015 studied atLoding....100% ORIGNAL Profile ®√ officialverified facebook\n",
      "<fg=bf2c00f0> This I$ VIP Account On FaceBooK ......█║▌│█│║▌║││█║▌║▌║ Loading.....████████████100% ORIGINAL PROFILE ® Understand All Girl's <b> <bg=b0ff00ff>understand girls I m a simple boy\n",
      "Original & Official V.I.P Account ® █║▌│█│║▌║││█║▌║▌║║▌✔ Verified © Official Facebook Profile Of Model - harsh.l ® Facebook ۩ █║▌│█│║▌║││█║▌│║█║\n",
      "||♪♪♠♦♠Facebook™_乂-ß๏丫_V.I.P Account®© █║▌│█│║▌║││█║▌│║█║▌ ©...\n",
      "Facebook V.I.P Account  █║▌│█│║▌║││█║▌│║█║▌ ©  OfficialProfilekïsî K ßäÅp mÊ îtÑâ dÛm Ñhî kì hÛm€ kÀm  pÈ rÄkh sÄkhÊ.25 July 2014 - PresentJabalpur, Madhya  Prades\n",
      "꧁𝐖𝐞𝐥𝐜𝐨𝐦𝐞 𝐭𝐨 𝐌𝐲 𝐅𝐚𝐜𝐞𝐛𝐨𝐨𝐤 𝐏𝐫𝐨𝐟𝐢𝐥𝐞꧂ Ashiq༆𝓕𝓪𝓬𝓮𝓫𝓸𝓸𝓴 ༒𝓥𝓘𝓟 ༒𝓪𝓬𝓬𝓸𝓾𝓷𝓽 ༆\n",
      "Người Dùng Facebook\n",
      "𝐹𝒶𝒞𝐸𝐵𝑜𝑜𝓀 -𝒪𝐹𝐹𝐼𝒞𝐼𝒶𝓁 -𝒜𝒸𝒸𝒶𝓊𝓃𝓉\n",
      "༆𝓕𝓪𝓬𝓮𝓫𝓸𝓸𝓴 ༒𝓥𝓘𝓟 ༒𝓪𝓬𝓬𝓸𝓾𝓷𝓽 ༆ 𝑵ẍ𝑵-𝑯𝑨𝑪𝐊𝑬𝑹𝑺-𝑹𝓸𝑯𝓘𝓽\n",
      "Welcome Friend To  MyFACEBOOK VIP  ACCOUNT█║▌│█│║▌║ ││█║▌│║█║▌  ©Official  Profile2015-2016 ......Øñly liker addme not  unliker & bad girlLiker\n",
      "Facebook\n",
      "Facebook High School\n",
      "বাপের হোটেলে থাকতে আবার কিসের কাজ \"No চিন্তা Only FACEBOOK\"\n",
      "Donut King-OFFICIAL FACEBOOK\n",
      "Facebook Fremont\n",
      "Pnb - Facebook Data Center\n",
      "Facebook Data Center Altoona Iowa\n",
      "Beranda Facebook\n",
      "Facebook Brasília\n",
      "Facebook San Francisco\n"
     ]
    }
   ],
   "source": [
    "token = 'EAAEZAqR78WQABAJ1FZA7mjWBA4kReHyZCn1nhw7cx52K1hbHq6D3MMF76ueNx9WnvnPXMtgXc8xBnwgTnPSPWgCLtecPLzDCHmdRkHdspym8IKWpG3hmzHXQzzVarosCTmRGE3oGHctCU1ES5ggcSLs5b2HZCGUQ3DwYtX4V7F8B4T88B0x4InbKCMujDNC9vqnp3lZCD1oZBIIqZAKivMiBRDZBQon01y0sQ1yEjq4ZBJAZDZD'\n",
    "url = \"https://graph.facebook.com/search?type=place&q=Facebook&fields=id,name,location,link&access_token={}\".format(token)\n",
    "url_tail = url.split('.facebook.com/')[-1]\n",
    "#r = requests.get(url).content\n",
    "graph = facebook.GraphAPI(access_token=token, version =3.1)\n",
    "events = graph.request(url_tail)\n",
    "for x in events['data']:\n",
    "    print(x['name'] )"
   ]
  },
  {
   "cell_type": "code",
   "execution_count": 36,
   "metadata": {},
   "outputs": [
    {
     "name": "stdout",
     "output_type": "stream",
     "text": [
      "{'id': '135176886535172', 'name': 'Money Mart', 'location': {'city': 'San Francisco', 'country': 'United States', 'latitude': 37.76466, 'longitude': -122.42215, 'state': 'CA', 'street': '500 Valencia St', 'zip': '94110-1115'}}\n",
      "{'id': '108397357445410', 'name': 'Money Goals', 'location': {'city': 'San Francisco', 'country': 'United States', 'latitude': 37.75451, 'longitude': -122.42499, 'state': 'CA'}}\n",
      "{'id': '169415066405640', 'name': 'Loan Mart-Money Mart', 'location': {'city': 'San Francisco', 'country': 'United States', 'latitude': 37.76009, 'longitude': -122.41949, 'state': 'CA', 'street': '2300 Mission St', 'zip': '94110-1814'}}\n"
     ]
    }
   ],
   "source": [
    "token = 'EAAEZAqR78WQABAMWCm1OfM8acTWuwnbxTUu2cApp0TRVJ00O4CA7VkPMDwOUW4oNZAziuas8pQfGE54wELZCY3kDvjbrTQ6XVMVIalHduDhOvI2g8oF8lU0GekU0b2mdkYnby7FNbd50iqJoMaevZARAibM9VDnmZBZACnhTNJzCx6pZCAE49ZAgmFfsuLZBjZCR6ZBshZCMPZBsjY0ZC8iYgg5XMO8ZCKbTuLPACVptp3miwxeGAZDZD'\n",
    "url = \"https://graph.facebook.com/search?type=user&q=drill&access_token={}\".format(token)\n",
    "url = \"graph.facebook.com/search? \\\n",
    "    q=money& \\\n",
    "    type=place& \\\n",
    "    fields=id,name,location,friends,place& \\\n",
    "    center=37.76,-122.427& \\\n",
    "    distance=1000&access_token={}\".format(token)\n",
    "#https://graph.facebook.com/search?q=mark&type=user\n",
    "url_tail = url.split('.facebook.com/')[-1]\n",
    "#r = requests.get(url).content\n",
    "graph = facebook.GraphAPI(access_token=token, version =3.1)\n",
    "events = graph.request(url_tail)\n",
    "for x in events['data']:\n",
    "    print(x)"
   ]
  },
  {
   "cell_type": "code",
   "execution_count": 6,
   "metadata": {},
   "outputs": [
    {
     "ename": "GraphAPIError",
     "evalue": "(#27) This method is only available to Workplace apps.",
     "output_type": "error",
     "traceback": [
      "\u001b[0;31m---------------------------------------------------------------------------\u001b[0m",
      "\u001b[0;31mGraphAPIError\u001b[0m                             Traceback (most recent call last)",
      "\u001b[0;32m<ipython-input-6-67c802999b2b>\u001b[0m in \u001b[0;36m<module>\u001b[0;34m\u001b[0m\n\u001b[1;32m      4\u001b[0m \u001b[0mr\u001b[0m \u001b[0;34m=\u001b[0m \u001b[0mrequests\u001b[0m\u001b[0;34m.\u001b[0m\u001b[0mget\u001b[0m\u001b[0;34m(\u001b[0m\u001b[0murl\u001b[0m\u001b[0;34m)\u001b[0m\u001b[0;34m.\u001b[0m\u001b[0mcontent\u001b[0m\u001b[0;34m\u001b[0m\u001b[0;34m\u001b[0m\u001b[0m\n\u001b[1;32m      5\u001b[0m \u001b[0mgraph\u001b[0m \u001b[0;34m=\u001b[0m \u001b[0mfacebook\u001b[0m\u001b[0;34m.\u001b[0m\u001b[0mGraphAPI\u001b[0m\u001b[0;34m(\u001b[0m\u001b[0maccess_token\u001b[0m\u001b[0;34m=\u001b[0m\u001b[0mtoken\u001b[0m\u001b[0;34m,\u001b[0m \u001b[0mversion\u001b[0m \u001b[0;34m=\u001b[0m\u001b[0;36m3.1\u001b[0m\u001b[0;34m)\u001b[0m\u001b[0;34m\u001b[0m\u001b[0;34m\u001b[0m\u001b[0m\n\u001b[0;32m----> 6\u001b[0;31m \u001b[0mevents\u001b[0m \u001b[0;34m=\u001b[0m \u001b[0mgraph\u001b[0m\u001b[0;34m.\u001b[0m\u001b[0mrequest\u001b[0m\u001b[0;34m(\u001b[0m\u001b[0murl_tail\u001b[0m\u001b[0;34m)\u001b[0m\u001b[0;34m\u001b[0m\u001b[0;34m\u001b[0m\u001b[0m\n\u001b[0m\u001b[1;32m      7\u001b[0m \u001b[0mprint\u001b[0m\u001b[0;34m(\u001b[0m\u001b[0mevents\u001b[0m\u001b[0;34m)\u001b[0m\u001b[0;34m\u001b[0m\u001b[0;34m\u001b[0m\u001b[0m\n",
      "\u001b[0;32m~/anaconda3/envs/anti-echo/lib/python3.8/site-packages/facebook/__init__.py\u001b[0m in \u001b[0;36mrequest\u001b[0;34m(self, path, args, post_args, files, method)\u001b[0m\n\u001b[1;32m    311\u001b[0m \u001b[0;34m\u001b[0m\u001b[0m\n\u001b[1;32m    312\u001b[0m         \u001b[0;32mif\u001b[0m \u001b[0mresult\u001b[0m \u001b[0;32mand\u001b[0m \u001b[0misinstance\u001b[0m\u001b[0;34m(\u001b[0m\u001b[0mresult\u001b[0m\u001b[0;34m,\u001b[0m \u001b[0mdict\u001b[0m\u001b[0;34m)\u001b[0m \u001b[0;32mand\u001b[0m \u001b[0mresult\u001b[0m\u001b[0;34m.\u001b[0m\u001b[0mget\u001b[0m\u001b[0;34m(\u001b[0m\u001b[0;34m\"error\"\u001b[0m\u001b[0;34m)\u001b[0m\u001b[0;34m:\u001b[0m\u001b[0;34m\u001b[0m\u001b[0;34m\u001b[0m\u001b[0m\n\u001b[0;32m--> 313\u001b[0;31m             \u001b[0;32mraise\u001b[0m \u001b[0mGraphAPIError\u001b[0m\u001b[0;34m(\u001b[0m\u001b[0mresult\u001b[0m\u001b[0;34m)\u001b[0m\u001b[0;34m\u001b[0m\u001b[0;34m\u001b[0m\u001b[0m\n\u001b[0m\u001b[1;32m    314\u001b[0m         \u001b[0;32mreturn\u001b[0m \u001b[0mresult\u001b[0m\u001b[0;34m\u001b[0m\u001b[0;34m\u001b[0m\u001b[0m\n\u001b[1;32m    315\u001b[0m \u001b[0;34m\u001b[0m\u001b[0m\n",
      "\u001b[0;31mGraphAPIError\u001b[0m: (#27) This method is only available to Workplace apps."
     ]
    }
   ],
   "source": [
    "token = 'EAAEZAqR78WQABAJ1FZA7mjWBA4kReHyZCn1nhw7cx52K1hbHq6D3MMF76ueNx9WnvnPXMtgXc8xBnwgTnPSPWgCLtecPLzDCHmdRkHdspym8IKWpG3hmzHXQzzVarosCTmRGE3oGHctCU1ES5ggcSLs5b2HZCGUQ3DwYtX4V7F8B4T88B0x4InbKCMujDNC9vqnp3lZCD1oZBIIqZAKivMiBRDZBQon01y0sQ1yEjq4ZBJAZDZD'\n",
    "url = \"https://graph.facebook.com/search?q=john&access_token={}\".format(token)\n",
    "url_tail = url.split('.facebook.com/')[-1]\n",
    "r = requests.get(url).content\n",
    "graph = facebook.GraphAPI(access_token=token, version =3.1)\n",
    "events = graph.request(url_tail)\n",
    "print(events)"
   ]
  },
  {
   "cell_type": "code",
   "execution_count": null,
   "metadata": {},
   "outputs": [],
   "source": []
  }
 ],
 "metadata": {
  "kernelspec": {
   "display_name": "Python 3",
   "language": "python",
   "name": "python3"
  },
  "language_info": {
   "codemirror_mode": {
    "name": "ipython",
    "version": 3
   },
   "file_extension": ".py",
   "mimetype": "text/x-python",
   "name": "python",
   "nbconvert_exporter": "python",
   "pygments_lexer": "ipython3",
   "version": "3.8.3"
  }
 },
 "nbformat": 4,
 "nbformat_minor": 4
}
