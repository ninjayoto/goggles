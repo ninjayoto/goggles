{
 "cells": [
  {
   "cell_type": "code",
   "execution_count": 1,
   "metadata": {},
   "outputs": [
    {
     "ename": "SyntaxError",
     "evalue": "invalid character in identifier (<ipython-input-1-c76c93d6ebdc>, line 3)",
     "output_type": "error",
     "traceback": [
      "\u001b[0;36m  File \u001b[0;32m\"<ipython-input-1-c76c93d6ebdc>\"\u001b[0;36m, line \u001b[0;32m3\u001b[0m\n\u001b[0;31m    events = graph.request(‘/search?q=Poetry&type=event&limit=10000’)\u001b[0m\n\u001b[0m                           ^\u001b[0m\n\u001b[0;31mSyntaxError\u001b[0m\u001b[0;31m:\u001b[0m invalid character in identifier\n"
     ]
    }
   ],
   "source": [
    "token = \"EAAEZAqR78WQABAA3zQyvKIKVfsOqiuZAAacnIQkoZBxuxdOYcQD7jjbCdsdR1Q4a8tGgHsTOktAptiVS5gJlwkRhRKAGFnUF7OZA6N2PmZA8lRKHQF4OejIfrWoDxE5H8KpR3d90qF5ZCkRnIei66qfAwRYfvvyyvzVvG213Hnfu43LOrLr0jGp4oJH0AMex5rs5gEZA10H3vIV8RqG79wGZAx4VswZBgZAfdc7u2V1Mu9mQZDZD\"\n",
    "graph = facebook.GraphAPI(access_token=token, version = 2.7)\n",
    "events = graph.request(/search?q=Poetry&type=event&limit=10000)"
   ]
  },
  {
   "cell_type": "code",
   "execution_count": 2,
   "metadata": {},
   "outputs": [
    {
     "ename": "SyntaxError",
     "evalue": "invalid syntax (<ipython-input-2-f8014d414ed9>, line 1)",
     "output_type": "error",
     "traceback": [
      "\u001b[0;36m  File \u001b[0;32m\"<ipython-input-2-f8014d414ed9>\"\u001b[0;36m, line \u001b[0;32m1\u001b[0m\n\u001b[0;31m    https://developers.facebook.com/docs/graph-api/reference/v7.0/user/feed\u001b[0m\n\u001b[0m          ^\u001b[0m\n\u001b[0;31mSyntaxError\u001b[0m\u001b[0;31m:\u001b[0m invalid syntax\n"
     ]
    }
   ],
   "source": [
    "https://developers.facebook.com/docs/graph-api/reference/v7.0/user/feed\n",
    "    https://developers.facebook.com/tools/explorer\n",
    "        \n",
    "        https://developers.facebook.com/docs/graph-api/reference/v7.0/user/feed"
   ]
  },
  {
   "cell_type": "code",
   "execution_count": null,
   "metadata": {},
   "outputs": [],
   "source": []
  }
 ],
 "metadata": {
  "kernelspec": {
   "display_name": "Python 3",
   "language": "python",
   "name": "python3"
  },
  "language_info": {
   "codemirror_mode": {
    "name": "ipython",
    "version": 3
   },
   "file_extension": ".py",
   "mimetype": "text/x-python",
   "name": "python",
   "nbconvert_exporter": "python",
   "pygments_lexer": "ipython3",
   "version": "3.8.3"
  }
 },
 "nbformat": 4,
 "nbformat_minor": 4
}
