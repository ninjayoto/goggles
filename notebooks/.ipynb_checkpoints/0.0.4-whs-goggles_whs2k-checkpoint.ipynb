{
 "cells": [
  {
   "cell_type": "code",
   "execution_count": 9,
   "metadata": {},
   "outputs": [
    {
     "name": "stdout",
     "output_type": "stream",
     "text": [
      "handle:  theebillyporter\n",
      "creating theebillyporter goggles\n",
      "grabbing page\n",
      "newids:  [151967576, 250280345, 755953153, 580097412, 223841564, 284709035, 1128401968211398658, 1004804740105035777, 19084896, 786309892990574592]\n",
      "screen_names:  ['AttorneyCrump', 'caaspeakers', 'TheSimpsons', 'ChrisEvans', 'TheGNShow', 'prideradio', 'Instatituss', 'WhenWeAllVote', 'TheRickWilson', 'SteveSchmidtSES']\n",
      "adding AttorneyCrump\n"
     ]
    },
    {
     "ename": "TweepError",
     "evalue": "[{'code': 34, 'message': 'Sorry, that page does not exist.'}]",
     "output_type": "error",
     "traceback": [
      "\u001b[0;31m---------------------------------------------------------------------------\u001b[0m",
      "\u001b[0;31mTweepError\u001b[0m                                Traceback (most recent call last)",
      "\u001b[0;32m<timed exec>\u001b[0m in \u001b[0;36m<module>\u001b[0;34m\u001b[0m\n",
      "\u001b[0;32m~/anaconda3/envs/anti-echo/lib/python3.8/site-packages/tweepy/binder.py\u001b[0m in \u001b[0;36m_call\u001b[0;34m(*args, **kwargs)\u001b[0m\n\u001b[1;32m    248\u001b[0m                 \u001b[0;32mreturn\u001b[0m \u001b[0mmethod\u001b[0m\u001b[0;34m\u001b[0m\u001b[0;34m\u001b[0m\u001b[0m\n\u001b[1;32m    249\u001b[0m             \u001b[0;32melse\u001b[0m\u001b[0;34m:\u001b[0m\u001b[0;34m\u001b[0m\u001b[0;34m\u001b[0m\u001b[0m\n\u001b[0;32m--> 250\u001b[0;31m                 \u001b[0;32mreturn\u001b[0m \u001b[0mmethod\u001b[0m\u001b[0;34m.\u001b[0m\u001b[0mexecute\u001b[0m\u001b[0;34m(\u001b[0m\u001b[0;34m)\u001b[0m\u001b[0;34m\u001b[0m\u001b[0;34m\u001b[0m\u001b[0m\n\u001b[0m\u001b[1;32m    251\u001b[0m         \u001b[0;32mfinally\u001b[0m\u001b[0;34m:\u001b[0m\u001b[0;34m\u001b[0m\u001b[0;34m\u001b[0m\u001b[0m\n\u001b[1;32m    252\u001b[0m             \u001b[0mmethod\u001b[0m\u001b[0;34m.\u001b[0m\u001b[0msession\u001b[0m\u001b[0;34m.\u001b[0m\u001b[0mclose\u001b[0m\u001b[0;34m(\u001b[0m\u001b[0;34m)\u001b[0m\u001b[0;34m\u001b[0m\u001b[0;34m\u001b[0m\u001b[0m\n",
      "\u001b[0;32m~/anaconda3/envs/anti-echo/lib/python3.8/site-packages/tweepy/binder.py\u001b[0m in \u001b[0;36mexecute\u001b[0;34m(self)\u001b[0m\n\u001b[1;32m    231\u001b[0m                     \u001b[0;32mraise\u001b[0m \u001b[0mRateLimitError\u001b[0m\u001b[0;34m(\u001b[0m\u001b[0merror_msg\u001b[0m\u001b[0;34m,\u001b[0m \u001b[0mresp\u001b[0m\u001b[0;34m)\u001b[0m\u001b[0;34m\u001b[0m\u001b[0;34m\u001b[0m\u001b[0m\n\u001b[1;32m    232\u001b[0m                 \u001b[0;32melse\u001b[0m\u001b[0;34m:\u001b[0m\u001b[0;34m\u001b[0m\u001b[0;34m\u001b[0m\u001b[0m\n\u001b[0;32m--> 233\u001b[0;31m                     \u001b[0;32mraise\u001b[0m \u001b[0mTweepError\u001b[0m\u001b[0;34m(\u001b[0m\u001b[0merror_msg\u001b[0m\u001b[0;34m,\u001b[0m \u001b[0mresp\u001b[0m\u001b[0;34m,\u001b[0m \u001b[0mapi_code\u001b[0m\u001b[0;34m=\u001b[0m\u001b[0mapi_error_code\u001b[0m\u001b[0;34m)\u001b[0m\u001b[0;34m\u001b[0m\u001b[0;34m\u001b[0m\u001b[0m\n\u001b[0m\u001b[1;32m    234\u001b[0m \u001b[0;34m\u001b[0m\u001b[0m\n\u001b[1;32m    235\u001b[0m             \u001b[0;31m# Parse the response payload\u001b[0m\u001b[0;34m\u001b[0m\u001b[0;34m\u001b[0m\u001b[0;34m\u001b[0m\u001b[0m\n",
      "\u001b[0;31mTweepError\u001b[0m: [{'code': 34, 'message': 'Sorry, that page does not exist.'}]"
     ]
    }
   ],
   "source": [
    "%%time\n",
    "import tweepy\n",
    "from tweepy import OAuthHandler\n",
    "import random\n",
    "import time\n",
    "import webbrowser\n",
    "import datetime\n",
    "\n",
    "#\n",
    "# this function returns a connection to the twitter API, using credentials loaded from creds.txt\n",
    "#\n",
    "def getAPI(creds):\n",
    "\tauth = OAuthHandler(creds['consumer_key'], creds['consumer_secret'])\n",
    "\tauth.set_access_token(creds['access_token'], creds['access_token_secret'])\n",
    "\n",
    "\tapi = tweepy.API(auth)\n",
    "\treturn api\n",
    "\n",
    "# start by loading twitter API credentials from creds.txt\n",
    "'''creds = {}\n",
    "with open('creds.txt', 'r') as file:\n",
    "\tcreds = eval(file.read())\n",
    "\n",
    "file.close()'''\n",
    "\n",
    "# use our credentials to get an API connection\n",
    "#api = getAPI(creds)/\n",
    "consumer_key = '6CM1Yqk0Qz6KUXsDQUS8xmahS'\n",
    "consumer_secret = 'LMSBfoJWMTlder205Ihr2t1JDgwJD2XgKQeWYau25gJix4lm24'\n",
    "access_token = '753302551840198656-Qx1HSVIZlqjShSsUeWY4BhRaVEbWVAP'\n",
    "access_token_secret = 'iwtFUe30YrmDlMyGACLLNYrpZQutuW2e8QzX03YwOlz97'\n",
    "auth = tweepy.OAuthHandler(consumer_key, consumer_secret)\n",
    "auth.set_access_token(access_token, access_token_secret)\n",
    "api = tweepy.API(auth)\n",
    "\n",
    "\n",
    "# grab our user ID\n",
    "myID = 'whs2k'#753302551840198656#creds['myID']\n",
    "'''\n",
    "# grab the list of everyone we follow\n",
    "current = api.friends_ids()\n",
    "\n",
    "# find someone who also follows us back\n",
    "mutual = False\n",
    "while not mutual:\n",
    "\tcandidateID = random.choice(current)\n",
    "\n",
    "\tcandidate = api.get_user(candidateID)\n",
    "\trelationship = api.show_friendship(source_id=myID, target_id=candidateID)\n",
    "\n",
    "\tif relationship[0].followed_by:\n",
    "\t\tmutual = True\n",
    "'''\n",
    "# grab their screen name\n",
    "handle = 'theebillyporter'\n",
    "print('handle: ', handle)\n",
    "#handle = candidate.screen_name\n",
    "\n",
    "# tell us who it is already\n",
    "print(\"creating \" + handle + \" goggles\")\n",
    "\n",
    "# grab the list of everyone they're following\n",
    "newids = []\n",
    "counter = 0\n",
    "\n",
    "for page in tweepy.Cursor(api.friends_ids, screen_name=handle).pages():\n",
    "\tprint(\"grabbing page\")\n",
    "\tnewids.extend(page)\n",
    "\tif counter != 0:\n",
    "\t\ttime.sleep(30)\n",
    "\tcounter += 1\n",
    "print('newids: ',newids[0:10])\n",
    "print('screen_names: ', str([api.get_user(x).screen_name for x in newids[0:10]]))\n",
    "\n",
    "# generate the list's description\n",
    "desc = \"following \" + handle + \"'s timeline\"\n",
    "\n",
    "# the name of our list. change this to make a new list!\n",
    "listName = \"goggles_2\"\n",
    "\n",
    "# create a new list called 'goggles' with the generated description\n",
    "goggles = api.create_list(name=listName, mode='public', description=desc)\n",
    "\n",
    "# populate list; twitter lists are limited to 5,000 members,\n",
    "# so grab a random sampling if necessary\n",
    "if len(newids) <= 5000:\n",
    "\tfor x, pal in list(enumerate(newids)):\n",
    "\t\tprint(\"adding \" + str(api.get_user(pal).screen_name))\n",
    "\t\tapi.add_list_member(list_id=goggles.id, id=pal)#api.add_list_member(slug=listName, id=pal, owner_screen_name=myID)\n",
    "else:\n",
    "\n",
    "\trandom.shuffle(newids)\n",
    "\tfor x, pal in list(enumerate(newids[0:5000])):\n",
    "\t\tprint(\"adding \" + str(x))\n",
    "\t\tapi.add_list_member(list_id=goggles.id, id=pal)#api.add_list_member(slug=listName, id=pal, owner_screen_name=myID)\n",
    "\n",
    "# we did it\n",
    "print(\"complete\")\n",
    "\n",
    "url = \"https://twitter.com\" + goggles.uri\n",
    "print(url)\n",
    "webbrowser.open(url, new=2)  # 2 = open in a new tab, if possible"
   ]
  },
  {
   "cell_type": "code",
   "execution_count": 3,
   "metadata": {},
   "outputs": [
    {
     "name": "stdout",
     "output_type": "stream",
     "text": [
      "https://twitter.com/whs2k/lists/goggles7\n"
     ]
    },
    {
     "data": {
      "text/plain": [
       "True"
      ]
     },
     "execution_count": 3,
     "metadata": {},
     "output_type": "execute_result"
    }
   ],
   "source": [
    "\n",
    "url = \"https://twitter.com\" + goggles.uri\n",
    "print(url)\n",
    "webbrowser.open(url, new=2)  # 2 = open in a new tab, if possible"
   ]
  },
  {
   "cell_type": "code",
   "execution_count": 6,
   "metadata": {},
   "outputs": [
    {
     "data": {
      "text/plain": [
       "<bound method List.timeline of List(_api=<tweepy.api.API object at 0x10977db20>, _json={'id': 1278827811642372098, 'id_str': '1278827811642372098', 'name': 'goggles', 'uri': '/whs2k/lists/goggles4', 'subscriber_count': 0, 'member_count': 0, 'mode': 'public', 'description': \"following Symbo1ics's timeline\", 'slug': 'goggles4', 'full_name': '@whs2k/goggles4', 'created_at': 'Mon Jan 19 10:42:11 +0000 1970', 'following': False, 'user': {'id': 753302551840198656, 'id_str': '753302551840198656', 'name': 'whs2k', 'screen_name': 'whs2k', 'location': '', 'description': 'AI, IoT, and TCB; doing data stuff @Amazon', 'url': None, 'entities': {'description': {'urls': []}}, 'protected': False, 'followers_count': 10, 'friends_count': 70, 'listed_count': 2, 'created_at': 'Wed Jul 13 18:58:19 +0000 2016', 'favourites_count': 65, 'utc_offset': None, 'time_zone': None, 'geo_enabled': True, 'verified': False, 'statuses_count': 71, 'lang': None, 'contributors_enabled': False, 'is_translator': False, 'is_translation_enabled': False, 'profile_background_color': '000000', 'profile_background_image_url': 'http://abs.twimg.com/images/themes/theme1/bg.png', 'profile_background_image_url_https': 'https://abs.twimg.com/images/themes/theme1/bg.png', 'profile_background_tile': False, 'profile_image_url': 'http://pbs.twimg.com/profile_images/913838646435962880/38zqqgCu_normal.jpg', 'profile_image_url_https': 'https://pbs.twimg.com/profile_images/913838646435962880/38zqqgCu_normal.jpg', 'profile_link_color': '7FDBB6', 'profile_sidebar_border_color': '000000', 'profile_sidebar_fill_color': '000000', 'profile_text_color': '000000', 'profile_use_background_image': False, 'has_extended_profile': True, 'default_profile': False, 'default_profile_image': False, 'following': False, 'follow_request_sent': False, 'notifications': False, 'translator_type': 'none'}}, id=1278827811642372098, id_str='1278827811642372098', name='goggles', uri='/whs2k/lists/goggles4', subscriber_count=0, member_count=0, mode='public', description=\"following Symbo1ics's timeline\", slug='goggles4', full_name='@whs2k/goggles4', created_at=datetime.datetime(1970, 1, 19, 10, 42, 11), following=False, user=User(_api=<tweepy.api.API object at 0x10977db20>, _json={'id': 753302551840198656, 'id_str': '753302551840198656', 'name': 'whs2k', 'screen_name': 'whs2k', 'location': '', 'description': 'AI, IoT, and TCB; doing data stuff @Amazon', 'url': None, 'entities': {'description': {'urls': []}}, 'protected': False, 'followers_count': 10, 'friends_count': 70, 'listed_count': 2, 'created_at': 'Wed Jul 13 18:58:19 +0000 2016', 'favourites_count': 65, 'utc_offset': None, 'time_zone': None, 'geo_enabled': True, 'verified': False, 'statuses_count': 71, 'lang': None, 'contributors_enabled': False, 'is_translator': False, 'is_translation_enabled': False, 'profile_background_color': '000000', 'profile_background_image_url': 'http://abs.twimg.com/images/themes/theme1/bg.png', 'profile_background_image_url_https': 'https://abs.twimg.com/images/themes/theme1/bg.png', 'profile_background_tile': False, 'profile_image_url': 'http://pbs.twimg.com/profile_images/913838646435962880/38zqqgCu_normal.jpg', 'profile_image_url_https': 'https://pbs.twimg.com/profile_images/913838646435962880/38zqqgCu_normal.jpg', 'profile_link_color': '7FDBB6', 'profile_sidebar_border_color': '000000', 'profile_sidebar_fill_color': '000000', 'profile_text_color': '000000', 'profile_use_background_image': False, 'has_extended_profile': True, 'default_profile': False, 'default_profile_image': False, 'following': False, 'follow_request_sent': False, 'notifications': False, 'translator_type': 'none'}, id=753302551840198656, id_str='753302551840198656', name='whs2k', screen_name='whs2k', location='', description='AI, IoT, and TCB; doing data stuff @Amazon', url=None, entities={'description': {'urls': []}}, protected=False, followers_count=10, friends_count=70, listed_count=2, created_at=datetime.datetime(2016, 7, 13, 18, 58, 19), favourites_count=65, utc_offset=None, time_zone=None, geo_enabled=True, verified=False, statuses_count=71, lang=None, contributors_enabled=False, is_translator=False, is_translation_enabled=False, profile_background_color='000000', profile_background_image_url='http://abs.twimg.com/images/themes/theme1/bg.png', profile_background_image_url_https='https://abs.twimg.com/images/themes/theme1/bg.png', profile_background_tile=False, profile_image_url='http://pbs.twimg.com/profile_images/913838646435962880/38zqqgCu_normal.jpg', profile_image_url_https='https://pbs.twimg.com/profile_images/913838646435962880/38zqqgCu_normal.jpg', profile_link_color='7FDBB6', profile_sidebar_border_color='000000', profile_sidebar_fill_color='000000', profile_text_color='000000', profile_use_background_image=False, has_extended_profile=True, default_profile=False, default_profile_image=False, following=False, follow_request_sent=False, notifications=False, translator_type='none'))>"
      ]
     },
     "execution_count": 6,
     "metadata": {},
     "output_type": "execute_result"
    }
   ],
   "source": [
    "goggles.timeline"
   ]
  },
  {
   "cell_type": "code",
   "execution_count": 46,
   "metadata": {},
   "outputs": [
    {
     "name": "stdout",
     "output_type": "stream",
     "text": [
      "current:  [236796085, 22734807, 36231074, 595018247, 794433401591693312, 48843, 2800780073, 851773048973807617, 2541873636, 876448351268380672, 403607797, 1088672682525319169, 2877269376, 1547241386, 208725869, 252647166, 176202072, 27216205, 471550563, 244991150, 527838270, 88273299, 750554018, 97114171, 427089628, 16298441, 3406059493, 15804774, 6573352, 32546966, 8472272, 1068951084, 602317143, 398087684, 768197780, 69133574, 115494880, 11766442, 36823, 33838201, 11518572, 2895499182, 438301250, 865622395, 911297187664949248, 169686021, 23145378, 1482581556, 517473207, 93957809, 14159138, 472301455, 2815077014, 48008938, 4398626122, 118263124, 3442793834, 1408142352, 130745589, 68746721, 4783690002, 33836629, 775449094739197953, 216939636, 12963432, 50478950, 3002482889, 275293468, 261025036, 16017475]\n",
      "creating Symbo1ics goggles\n",
      "grabbing page\n",
      "newids:  [2926460117, 3348951659, 48345939, 283321300, 1144627279391334400, 1082000847368679424, 2343594704, 1089564738558836737, 753313722765021184, 269395410]\n",
      "screen_names:  ['wkjarosz', 'tunabrain', 'iliyang', 'tizianzeltner', 'wenzeljakob', 'Gidimten', 'acuriousother', 'xlengineer1', 'LeoBodnar', 'A_aphrodisia']\n",
      "goggles:  List(_api=<tweepy.api.API object at 0x113b4a850>, _json={'id': 1278850021216022529, 'id_str': '1278850021216022529', 'name': 'goggles_10', 'uri': '/whs2k/lists/goggles-1019', 'subscriber_count': 0, 'member_count': 0, 'mode': 'public', 'description': \"following Symbo1ics's timeline\", 'slug': 'goggles-1019', 'full_name': '@whs2k/goggles-1019', 'created_at': 'Mon Jan 19 10:42:16 +0000 1970', 'following': False, 'user': {'id': 753302551840198656, 'id_str': '753302551840198656', 'name': 'whs2k', 'screen_name': 'whs2k', 'location': '', 'description': 'AI, IoT, and TCB; doing data stuff @Amazon', 'url': None, 'entities': {'description': {'urls': []}}, 'protected': False, 'followers_count': 10, 'friends_count': 70, 'listed_count': 2, 'created_at': 'Wed Jul 13 18:58:19 +0000 2016', 'favourites_count': 65, 'utc_offset': None, 'time_zone': None, 'geo_enabled': True, 'verified': False, 'statuses_count': 71, 'lang': None, 'contributors_enabled': False, 'is_translator': False, 'is_translation_enabled': False, 'profile_background_color': '000000', 'profile_background_image_url': 'http://abs.twimg.com/images/themes/theme1/bg.png', 'profile_background_image_url_https': 'https://abs.twimg.com/images/themes/theme1/bg.png', 'profile_background_tile': False, 'profile_image_url': 'http://pbs.twimg.com/profile_images/913838646435962880/38zqqgCu_normal.jpg', 'profile_image_url_https': 'https://pbs.twimg.com/profile_images/913838646435962880/38zqqgCu_normal.jpg', 'profile_link_color': '7FDBB6', 'profile_sidebar_border_color': '000000', 'profile_sidebar_fill_color': '000000', 'profile_text_color': '000000', 'profile_use_background_image': False, 'has_extended_profile': True, 'default_profile': False, 'default_profile_image': False, 'following': False, 'follow_request_sent': False, 'notifications': False, 'translator_type': 'none'}}, id=1278850021216022529, id_str='1278850021216022529', name='goggles_10', uri='/whs2k/lists/goggles-1019', subscriber_count=0, member_count=0, mode='public', description=\"following Symbo1ics's timeline\", slug='goggles-1019', full_name='@whs2k/goggles-1019', created_at=datetime.datetime(1970, 1, 19, 10, 42, 16), following=False, user=User(_api=<tweepy.api.API object at 0x113b4a850>, _json={'id': 753302551840198656, 'id_str': '753302551840198656', 'name': 'whs2k', 'screen_name': 'whs2k', 'location': '', 'description': 'AI, IoT, and TCB; doing data stuff @Amazon', 'url': None, 'entities': {'description': {'urls': []}}, 'protected': False, 'followers_count': 10, 'friends_count': 70, 'listed_count': 2, 'created_at': 'Wed Jul 13 18:58:19 +0000 2016', 'favourites_count': 65, 'utc_offset': None, 'time_zone': None, 'geo_enabled': True, 'verified': False, 'statuses_count': 71, 'lang': None, 'contributors_enabled': False, 'is_translator': False, 'is_translation_enabled': False, 'profile_background_color': '000000', 'profile_background_image_url': 'http://abs.twimg.com/images/themes/theme1/bg.png', 'profile_background_image_url_https': 'https://abs.twimg.com/images/themes/theme1/bg.png', 'profile_background_tile': False, 'profile_image_url': 'http://pbs.twimg.com/profile_images/913838646435962880/38zqqgCu_normal.jpg', 'profile_image_url_https': 'https://pbs.twimg.com/profile_images/913838646435962880/38zqqgCu_normal.jpg', 'profile_link_color': '7FDBB6', 'profile_sidebar_border_color': '000000', 'profile_sidebar_fill_color': '000000', 'profile_text_color': '000000', 'profile_use_background_image': False, 'has_extended_profile': True, 'default_profile': False, 'default_profile_image': False, 'following': False, 'follow_request_sent': False, 'notifications': False, 'translator_type': 'none'}, id=753302551840198656, id_str='753302551840198656', name='whs2k', screen_name='whs2k', location='', description='AI, IoT, and TCB; doing data stuff @Amazon', url=None, entities={'description': {'urls': []}}, protected=False, followers_count=10, friends_count=70, listed_count=2, created_at=datetime.datetime(2016, 7, 13, 18, 58, 19), favourites_count=65, utc_offset=None, time_zone=None, geo_enabled=True, verified=False, statuses_count=71, lang=None, contributors_enabled=False, is_translator=False, is_translation_enabled=False, profile_background_color='000000', profile_background_image_url='http://abs.twimg.com/images/themes/theme1/bg.png', profile_background_image_url_https='https://abs.twimg.com/images/themes/theme1/bg.png', profile_background_tile=False, profile_image_url='http://pbs.twimg.com/profile_images/913838646435962880/38zqqgCu_normal.jpg', profile_image_url_https='https://pbs.twimg.com/profile_images/913838646435962880/38zqqgCu_normal.jpg', profile_link_color='7FDBB6', profile_sidebar_border_color='000000', profile_sidebar_fill_color='000000', profile_text_color='000000', profile_use_background_image=False, has_extended_profile=True, default_profile=False, default_profile_image=False, following=False, follow_request_sent=False, notifications=False, translator_type='none'))\n",
      "adding 0wkjarosz\n",
      "adding 1tunabrain\n",
      "adding 2iliyang\n",
      "adding 3tizianzeltner\n",
      "adding 4wenzeljakob\n",
      "adding 5Gidimten\n",
      "adding 6acuriousother\n",
      "adding 7xlengineer1\n",
      "adding 8LeoBodnar\n",
      "adding 9A_aphrodisia\n",
      "adding 10ObservatoryCats\n",
      "adding 11vectorpoem\n",
      "adding 12JYSexton\n",
      "adding 13Bethany_France2\n",
      "adding 14Frank_Canon_\n",
      "adding 15wizentrop\n",
      "adding 16UnderTheMayo\n",
      "adding 17brassicGamer\n",
      "adding 18SenorTren\n",
      "adding 19R_P_one\n",
      "adding 20bmau_ro\n",
      "adding 21BlackDigitalHum\n",
      "adding 22robertoglezcano\n",
      "adding 23geoffmanaugh\n",
      "adding 24IAmSuyiDavies\n",
      "adding 25jane_anon\n",
      "adding 26blogdiva\n",
      "adding 27blackeuler\n",
      "adding 28scale_banana\n",
      "adding 29candaceforpdx\n",
      "adding 30acornproton\n",
      "adding 31aishaismad\n",
      "adding 32engineers_feed\n",
      "adding 33cheryllynneaton\n",
      "adding 34letsgoayo\n",
      "adding 35GailSimone\n",
      "adding 36chefesque\n",
      "adding 37theIranianAlien\n",
      "adding 38propublica\n",
      "adding 39fred_gambino\n",
      "adding 40SankofaBrown\n"
     ]
    },
    {
     "ename": "TweepError",
     "evalue": "[{'code': 104, 'message': \"You aren't allowed to add members to this list.\"}]",
     "output_type": "error",
     "traceback": [
      "\u001b[0;31m---------------------------------------------------------------------------\u001b[0m",
      "\u001b[0;31mTweepError\u001b[0m                                Traceback (most recent call last)",
      "\u001b[0;32m<timed exec>\u001b[0m in \u001b[0;36m<module>\u001b[0;34m\u001b[0m\n",
      "\u001b[0;32m~/anaconda3/envs/anti-echo/lib/python3.8/site-packages/tweepy/binder.py\u001b[0m in \u001b[0;36m_call\u001b[0;34m(*args, **kwargs)\u001b[0m\n\u001b[1;32m    248\u001b[0m                 \u001b[0;32mreturn\u001b[0m \u001b[0mmethod\u001b[0m\u001b[0;34m\u001b[0m\u001b[0;34m\u001b[0m\u001b[0m\n\u001b[1;32m    249\u001b[0m             \u001b[0;32melse\u001b[0m\u001b[0;34m:\u001b[0m\u001b[0;34m\u001b[0m\u001b[0;34m\u001b[0m\u001b[0m\n\u001b[0;32m--> 250\u001b[0;31m                 \u001b[0;32mreturn\u001b[0m \u001b[0mmethod\u001b[0m\u001b[0;34m.\u001b[0m\u001b[0mexecute\u001b[0m\u001b[0;34m(\u001b[0m\u001b[0;34m)\u001b[0m\u001b[0;34m\u001b[0m\u001b[0;34m\u001b[0m\u001b[0m\n\u001b[0m\u001b[1;32m    251\u001b[0m         \u001b[0;32mfinally\u001b[0m\u001b[0;34m:\u001b[0m\u001b[0;34m\u001b[0m\u001b[0;34m\u001b[0m\u001b[0m\n\u001b[1;32m    252\u001b[0m             \u001b[0mmethod\u001b[0m\u001b[0;34m.\u001b[0m\u001b[0msession\u001b[0m\u001b[0;34m.\u001b[0m\u001b[0mclose\u001b[0m\u001b[0;34m(\u001b[0m\u001b[0;34m)\u001b[0m\u001b[0;34m\u001b[0m\u001b[0;34m\u001b[0m\u001b[0m\n",
      "\u001b[0;32m~/anaconda3/envs/anti-echo/lib/python3.8/site-packages/tweepy/binder.py\u001b[0m in \u001b[0;36mexecute\u001b[0;34m(self)\u001b[0m\n\u001b[1;32m    231\u001b[0m                     \u001b[0;32mraise\u001b[0m \u001b[0mRateLimitError\u001b[0m\u001b[0;34m(\u001b[0m\u001b[0merror_msg\u001b[0m\u001b[0;34m,\u001b[0m \u001b[0mresp\u001b[0m\u001b[0;34m)\u001b[0m\u001b[0;34m\u001b[0m\u001b[0;34m\u001b[0m\u001b[0m\n\u001b[1;32m    232\u001b[0m                 \u001b[0;32melse\u001b[0m\u001b[0;34m:\u001b[0m\u001b[0;34m\u001b[0m\u001b[0;34m\u001b[0m\u001b[0m\n\u001b[0;32m--> 233\u001b[0;31m                     \u001b[0;32mraise\u001b[0m \u001b[0mTweepError\u001b[0m\u001b[0;34m(\u001b[0m\u001b[0merror_msg\u001b[0m\u001b[0;34m,\u001b[0m \u001b[0mresp\u001b[0m\u001b[0;34m,\u001b[0m \u001b[0mapi_code\u001b[0m\u001b[0;34m=\u001b[0m\u001b[0mapi_error_code\u001b[0m\u001b[0;34m)\u001b[0m\u001b[0;34m\u001b[0m\u001b[0;34m\u001b[0m\u001b[0m\n\u001b[0m\u001b[1;32m    234\u001b[0m \u001b[0;34m\u001b[0m\u001b[0m\n\u001b[1;32m    235\u001b[0m             \u001b[0;31m# Parse the response payload\u001b[0m\u001b[0;34m\u001b[0m\u001b[0;34m\u001b[0m\u001b[0;34m\u001b[0m\u001b[0m\n",
      "\u001b[0;31mTweepError\u001b[0m: [{'code': 104, 'message': \"You aren't allowed to add members to this list.\"}]"
     ]
    }
   ],
   "source": [
    "%%time\n",
    "import tweepy\n",
    "from tweepy import OAuthHandler\n",
    "import random\n",
    "import time\n",
    "import webbrowser\n",
    "import datetime\n",
    "\n",
    "#\n",
    "# this function returns a connection to the twitter API, using credentials loaded from creds.txt\n",
    "#\n",
    "def getAPI(creds):\n",
    "\tauth = OAuthHandler(creds['consumer_key'], creds['consumer_secret'])\n",
    "\tauth.set_access_token(creds['access_token'], creds['access_token_secret'])\n",
    "\n",
    "\tapi = tweepy.API(auth)\n",
    "\treturn api\n",
    "\n",
    "# start by loading twitter API credentials from creds.txt\n",
    "'''creds = {}\n",
    "with open('creds.txt', 'r') as file:\n",
    "\tcreds = eval(file.read())\n",
    "\n",
    "file.close()'''\n",
    "\n",
    "# use our credentials to get an API connection\n",
    "#api = getAPI(creds)/\n",
    "consumer_key = '6CM1Yqk0Qz6KUXsDQUS8xmahS'\n",
    "consumer_secret = 'LMSBfoJWMTlder205Ihr2t1JDgwJD2XgKQeWYau25gJix4lm24'\n",
    "access_token = '753302551840198656-Qx1HSVIZlqjShSsUeWY4BhRaVEbWVAP'\n",
    "access_token_secret = 'iwtFUe30YrmDlMyGACLLNYrpZQutuW2e8QzX03YwOlz97'\n",
    "auth = tweepy.OAuthHandler(consumer_key, consumer_secret)\n",
    "auth.set_access_token(access_token, access_token_secret)\n",
    "api = tweepy.API(auth, wait_on_rate_limit=True)\n",
    "\n",
    "\n",
    "# grab our user ID\n",
    "myID = 'whs2k'#753302551840198656#creds['myID']\n",
    "\n",
    "# grab the list of everyone we follow\n",
    "current = api.friends_ids()\n",
    "print('current: ',current)\n",
    "\n",
    "# find someone who also follows us back\n",
    "mutual = False\n",
    "while not mutual:\n",
    "\tcandidateID = random.choice(current)\n",
    "\n",
    "\tcandidate = api.get_user(candidateID)\n",
    "\trelationship = api.show_friendship(source_id=myID, target_id=candidateID)\n",
    "\n",
    "\tif relationship[0].followed_by:\n",
    "\t\tmutual = True\n",
    "\n",
    "# grab their screen name\n",
    "handle = candidate.screen_name\n",
    "\n",
    "# tell us who it is already\n",
    "print(\"creating \" + handle + \" goggles\")\n",
    "\n",
    "# grab the list of everyone they're following\n",
    "newids = []\n",
    "counter = 0\n",
    "\n",
    "for page in tweepy.Cursor(api.friends_ids, screen_name=handle).pages():\n",
    "\tprint(\"grabbing page\")\n",
    "\tnewids.extend(page)\n",
    "\tif counter != 0:\n",
    "\t\ttime.sleep(30)\n",
    "\tcounter += 1\n",
    "print('newids: ',newids[0:10])\n",
    "print('screen_names: ', str([api.get_user(x).screen_name for x in newids[0:10]]))\n",
    "\n",
    "\n",
    "# generate the list's description\n",
    "desc = \"following \" + handle + \"'s timeline\"\n",
    "\n",
    "# the name of our list. change this to make a new list!\n",
    "listName = \"goggles_10\"\n",
    "\n",
    "# create a new list called 'goggles' with the generated description\n",
    "goggles = api.create_list(name=listName, mode='public', description=desc)\n",
    "print('goggles: ',goggles)\n",
    "# populate list; twitter lists are limited to 5,000 members,\n",
    "# so grab a random sampling if necessary\n",
    "if len(newids) <= 5000:\n",
    "\tfor x, pal in list(enumerate(newids)):\n",
    "\t\tprint(\"adding \" +str(x)+ str(api.get_user(pal).screen_name))\n",
    "\t\tapi.add_list_member(list_id=goggles.id, id=pal)#api.add_list_member(slug=listName, id=api.get_user(pal).id, owner_screen_name=myID)\n",
    "else:\n",
    "\n",
    "\trandom.shuffle(newids)\n",
    "\tfor x, pal in list(enumerate(newids[0:5000])):\n",
    "\t\tprint(\"adding \" + str(x))\n",
    "\t\tapi.add_list_member(list_id=goggles.id, id=pal)#api.add_list_member(slug=listName, id=pal, owner_screen_name=myID)\n",
    "\n",
    "# we did it\n",
    "print(\"complete\")\n",
    "\n",
    "url = \"https://twitter.com\" + goggles.uri\n",
    "print(url)\n",
    "webbrowser.open(url, new=2)  # 2 = open in a new tab, if possible\n"
   ]
  },
  {
   "cell_type": "code",
   "execution_count": 45,
   "metadata": {},
   "outputs": [
    {
     "data": {
      "text/plain": [
       "'myID = \\'whs2k\\'#753302551840198656#creds[\\'myID\\']\\nlistName = \"goggles_10\"\\ngoggles = api.create_list(name=listName, mode=\\'public\\', description=desc)\\napi.get_list(list_id=goggles.id)#slug=listName, owner_id=api.get_user(myID).id)\\napi.add_list_member(list_id=goggles.id, id=pal)#slug=listName, id=api.get_user(pal).id, owner_screen_name=myID)'"
      ]
     },
     "execution_count": 45,
     "metadata": {},
     "output_type": "execute_result"
    }
   ],
   "source": [
    "'''myID = 'whs2k'#753302551840198656#creds['myID']\n",
    "listName = \"goggles_10\"\n",
    "goggles = api.create_list(name=listName, mode='public', description=desc)\n",
    "api.get_list(list_id=goggles.id)#slug=listName, owner_id=api.get_user(myID).id)\n",
    "api.add_list_member(list_id=goggles.id, id=pal)#slug=listName, id=api.get_user(pal).id, owner_screen_name=myID)'''"
   ]
  },
  {
   "cell_type": "code",
   "execution_count": null,
   "metadata": {},
   "outputs": [],
   "source": []
  }
 ],
 "metadata": {
  "kernelspec": {
   "display_name": "Python 3",
   "language": "python",
   "name": "python3"
  },
  "language_info": {
   "codemirror_mode": {
    "name": "ipython",
    "version": 3
   },
   "file_extension": ".py",
   "mimetype": "text/x-python",
   "name": "python",
   "nbconvert_exporter": "python",
   "pygments_lexer": "ipython3",
   "version": "3.8.3"
  }
 },
 "nbformat": 4,
 "nbformat_minor": 4
}
