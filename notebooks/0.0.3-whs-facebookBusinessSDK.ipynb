{
 "cells": [
  {
   "cell_type": "code",
   "execution_count": 2,
   "metadata": {},
   "outputs": [
    {
     "ename": "FacebookBadObjectError",
     "evalue": "An Api instance must be provided as an argument or set as the default Api in FacebookAdsApi.",
     "output_type": "error",
     "traceback": [
      "\u001b[0;31m---------------------------------------------------------------------------\u001b[0m",
      "\u001b[0;31mFacebookBadObjectError\u001b[0m                    Traceback (most recent call last)",
      "\u001b[0;32m<ipython-input-2-4dfe14449ce6>\u001b[0m in \u001b[0;36m<module>\u001b[0;34m\u001b[0m\n\u001b[1;32m      6\u001b[0m }\n\u001b[1;32m      7\u001b[0m \u001b[0;34m\u001b[0m\u001b[0m\n\u001b[0;32m----> 8\u001b[0;31m \u001b[0mresp\u001b[0m \u001b[0;34m=\u001b[0m \u001b[0mTargetingSearch\u001b[0m\u001b[0;34m.\u001b[0m\u001b[0msearch\u001b[0m\u001b[0;34m(\u001b[0m\u001b[0mparams\u001b[0m\u001b[0;34m=\u001b[0m\u001b[0mparams\u001b[0m\u001b[0;34m)\u001b[0m\u001b[0;34m\u001b[0m\u001b[0;34m\u001b[0m\u001b[0m\n\u001b[0m\u001b[1;32m      9\u001b[0m \u001b[0mprint\u001b[0m\u001b[0;34m(\u001b[0m\u001b[0mresp\u001b[0m\u001b[0;34m)\u001b[0m\u001b[0;34m\u001b[0m\u001b[0;34m\u001b[0m\u001b[0m\n",
      "\u001b[0;32m~/anaconda3/envs/anti-echo/lib/python3.8/site-packages/facebookads/adobjects/targetingsearch.py\u001b[0m in \u001b[0;36msearch\u001b[0;34m(cls, params, api)\u001b[0m\n\u001b[1;32m     66\u001b[0m         \u001b[0mapi\u001b[0m \u001b[0;34m=\u001b[0m \u001b[0mapi\u001b[0m \u001b[0;32mor\u001b[0m \u001b[0mFacebookAdsApi\u001b[0m\u001b[0;34m.\u001b[0m\u001b[0mget_default_api\u001b[0m\u001b[0;34m(\u001b[0m\u001b[0;34m)\u001b[0m\u001b[0;34m\u001b[0m\u001b[0;34m\u001b[0m\u001b[0m\n\u001b[1;32m     67\u001b[0m         \u001b[0;32mif\u001b[0m \u001b[0;32mnot\u001b[0m \u001b[0mapi\u001b[0m\u001b[0;34m:\u001b[0m\u001b[0;34m\u001b[0m\u001b[0;34m\u001b[0m\u001b[0m\n\u001b[0;32m---> 68\u001b[0;31m             raise FacebookBadObjectError(\n\u001b[0m\u001b[1;32m     69\u001b[0m                 \u001b[0;34m\"An Api instance must be provided as an argument or set as \"\u001b[0m\u001b[0;34m\u001b[0m\u001b[0;34m\u001b[0m\u001b[0m\n\u001b[1;32m     70\u001b[0m                 \u001b[0;34m\"the default Api in FacebookAdsApi.\"\u001b[0m\u001b[0;34m,\u001b[0m\u001b[0;34m\u001b[0m\u001b[0;34m\u001b[0m\u001b[0m\n",
      "\u001b[0;31mFacebookBadObjectError\u001b[0m: An Api instance must be provided as an argument or set as the default Api in FacebookAdsApi."
     ]
    }
   ],
   "source": [
    "from facebookads.adobjects.targetingsearch import TargetingSearch\n",
    "params = {\n",
    "    'q': 'un',\n",
    "    'type': 'adgeolocation',\n",
    "    'location_types': ['country'],\n",
    "}\n",
    "\n",
    "resp = TargetingSearch.search(params=params)\n",
    "print(resp)"
   ]
  },
  {
   "cell_type": "code",
   "execution_count": null,
   "metadata": {},
   "outputs": [],
   "source": []
  }
 ],
 "metadata": {
  "kernelspec": {
   "display_name": "Python 3",
   "language": "python",
   "name": "python3"
  },
  "language_info": {
   "codemirror_mode": {
    "name": "ipython",
    "version": 3
   },
   "file_extension": ".py",
   "mimetype": "text/x-python",
   "name": "python",
   "nbconvert_exporter": "python",
   "pygments_lexer": "ipython3",
   "version": "3.8.3"
  }
 },
 "nbformat": 4,
 "nbformat_minor": 4
}
